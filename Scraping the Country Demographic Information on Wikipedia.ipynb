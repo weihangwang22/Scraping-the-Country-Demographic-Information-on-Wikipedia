{
 "cells": [
  {
   "cell_type": "markdown",
   "id": "e6a62ab1",
   "metadata": {},
   "source": [
    "# Scraping the Country Demographic Information on Wikipedia"
   ]
  },
  {
   "cell_type": "markdown",
   "id": "ad5c3230",
   "metadata": {},
   "source": [
    "## Project Outline\n",
    "\n",
    "1. Download the page using `requests`\n",
    "2. Parse the HTML source using `BeautifulSoup4`\n",
    "3. Extract country names and country URLs from the main page\n",
    "4. Compile extracted information into Python lists and dictionaries\n",
    "5. Extract and combine data from multiple pages\n",
    "6. Save the extracted information to a CSV file."
   ]
  },
  {
   "cell_type": "markdown",
   "id": "7f37aaa2",
   "metadata": {},
   "source": [
    "## Import the libraries"
   ]
  },
  {
   "cell_type": "code",
   "execution_count": 2,
   "id": "54e9db67",
   "metadata": {},
   "outputs": [],
   "source": [
    "from bs4 import BeautifulSoup\n",
    "import requests\n",
    "import pandas as pd\n",
    "import os"
   ]
  },
  {
   "cell_type": "markdown",
   "id": "1c262e93",
   "metadata": {},
   "source": [
    "## Download the page using `requests`\n",
    "\n",
    "To download a page, I will use `requests.get` function from `requests`, which returns a response object containing the data from web page. "
   ]
  },
  {
   "cell_type": "code",
   "execution_count": 3,
   "id": "2cecbcbf",
   "metadata": {},
   "outputs": [],
   "source": [
    "wiki_url = 'https://en.wikipedia.org/wiki/Category:Demographics_by_country'"
   ]
  },
  {
   "cell_type": "code",
   "execution_count": 4,
   "id": "5cefe96d",
   "metadata": {},
   "outputs": [],
   "source": [
    "response = requests.get(wiki_url)"
   ]
  },
  {
   "cell_type": "markdown",
   "id": "fa748d60",
   "metadata": {},
   "source": [
    "The `.status_code` property can be used to check if the response was successful. A successful response will have an [HTTP status code](https://developer.mozilla.org/en-US/docs/Web/HTTP/Status) between 200 and 299. "
   ]
  },
  {
   "cell_type": "code",
   "execution_count": 5,
   "id": "852a2194",
   "metadata": {},
   "outputs": [
    {
     "data": {
      "text/plain": [
       "200"
      ]
     },
     "execution_count": 5,
     "metadata": {},
     "output_type": "execute_result"
    }
   ],
   "source": [
    "response.status_code"
   ]
  },
  {
   "cell_type": "markdown",
   "id": "5dc439fc",
   "metadata": {},
   "source": [
    "Once the response is successful, we can get the contents of the page using `response.text`. We can always check the length of `response.text` to see if it contain anything (`len(response.text)`). We can also use `response.ok` property to check if the response is ok or not. "
   ]
  },
  {
   "cell_type": "code",
   "execution_count": 6,
   "id": "06903ab7",
   "metadata": {},
   "outputs": [
    {
     "data": {
      "text/plain": [
       "178770"
      ]
     },
     "execution_count": 6,
     "metadata": {},
     "output_type": "execute_result"
    }
   ],
   "source": [
    "len(response.text)"
   ]
  },
  {
   "cell_type": "code",
   "execution_count": 7,
   "id": "a8ceb53d",
   "metadata": {},
   "outputs": [
    {
     "data": {
      "text/plain": [
       "'<!DOCTYPE html>\\n<html class=\"client-nojs vector-feature-language-in-header-enabled vector-feature-language-in-main-page-header-disabled vector-feature-language-alert-in-sidebar-enabled vector-feature-sticky-header-disabled vector-feature-page-tools-enabled vector-feature-page-tools-pinned-disabled vector-feature-toc-pinned-enabled vector-feature-main-menu-pinned-disabled vector-feature-limited-width-enabled vector-feature-limited-width-content-disabled\" lang=\"en\" dir=\"ltr\">\\n<head>\\n<meta charset='"
      ]
     },
     "execution_count": 7,
     "metadata": {},
     "output_type": "execute_result"
    }
   ],
   "source": [
    "page_content = response.text\n",
    "page_content[:500]"
   ]
  },
  {
   "cell_type": "markdown",
   "id": "90cb5576",
   "metadata": {},
   "source": [
    "What we're looking at above is the [HTML source code](https://en.wikipedia.org/wiki/HTML) of the web page. \n",
    "\n",
    "We can also save it to a file and view the page locally within Jupyter using \"File > Open\"."
   ]
  },
  {
   "cell_type": "code",
   "execution_count": 8,
   "id": "97db6564",
   "metadata": {},
   "outputs": [],
   "source": [
    "with open('downloaded_webpage.html','w') as f:\n",
    "    f.write(page_content)"
   ]
  },
  {
   "cell_type": "markdown",
   "id": "072d469c",
   "metadata": {},
   "source": [
    "## Parse the HTML source using BeautifulSoup4"
   ]
  },
  {
   "cell_type": "code",
   "execution_count": 9,
   "id": "d91fd69d",
   "metadata": {},
   "outputs": [],
   "source": [
    "doc = BeautifulSoup(response.text, 'html.parser')"
   ]
  },
  {
   "cell_type": "markdown",
   "id": "a9b94e41",
   "metadata": {},
   "source": [
    "Once the web content is parsed using beautiful, it returned a BeautifulSoup object."
   ]
  },
  {
   "cell_type": "code",
   "execution_count": 10,
   "id": "01deeefe",
   "metadata": {},
   "outputs": [
    {
     "data": {
      "text/plain": [
       "bs4.BeautifulSoup"
      ]
     },
     "execution_count": 10,
     "metadata": {},
     "output_type": "execute_result"
    }
   ],
   "source": [
    "type(doc)"
   ]
  },
  {
   "cell_type": "code",
   "execution_count": 11,
   "id": "84332afc",
   "metadata": {},
   "outputs": [
    {
     "data": {
      "text/plain": [
       "<title>Category:Demographics by country - Wikipedia</title>"
      ]
     },
     "execution_count": 11,
     "metadata": {},
     "output_type": "execute_result"
    }
   ],
   "source": [
    "doc.find('title')"
   ]
  },
  {
   "cell_type": "markdown",
   "id": "ba3aaab2",
   "metadata": {},
   "source": [
    "Let's create a combined function for these 2 sections, which download the webpage using `requests` and then parse the page using `beautifulsoup`."
   ]
  },
  {
   "cell_type": "code",
   "execution_count": 12,
   "id": "4d66fbca",
   "metadata": {},
   "outputs": [],
   "source": [
    "def get_countries_page():\n",
    "    \"\"\"\"Download a web page and return a beautiful soup doc\"\"\"\n",
    "    #wiki_url = 'https://en.wikipedia.org/wiki/Category:Demographics_of_Asia_by_country'\n",
    "    wiki_url = 'https://en.wikipedia.org/wiki/Category:Demographics_by_country'\n",
    "    response = requests.get(wiki_url)\n",
    "    if response.status_code != 200:\n",
    "        raise Exception('Failed to load page {}'.format(wiki_url))\n",
    "    doc = BeautifulSoup(response.text, 'html.parser')\n",
    "    return doc"
   ]
  },
  {
   "cell_type": "markdown",
   "id": "40cd4aac",
   "metadata": {},
   "source": [
    "Above function would take the wiki URL, download the content using `requests`. Once it is downloaded successfully (status_code = 200), then we parse the web content using `BeautifulSoup`. If it is not downloaded successfully, then the function would raise an exception. \n",
    "\n",
    "Now let's test this function if it returning the same value as original code. The best way is call the same property (in this case, let's find title), and see if both are giving the same results. "
   ]
  },
  {
   "cell_type": "code",
   "execution_count": 13,
   "id": "d94e0e15",
   "metadata": {},
   "outputs": [],
   "source": [
    "doc2 = get_countries_page()"
   ]
  },
  {
   "cell_type": "code",
   "execution_count": 14,
   "id": "9d4d5cc8",
   "metadata": {},
   "outputs": [
    {
     "data": {
      "text/plain": [
       "bs4.BeautifulSoup"
      ]
     },
     "execution_count": 14,
     "metadata": {},
     "output_type": "execute_result"
    }
   ],
   "source": [
    "type(doc2)"
   ]
  },
  {
   "cell_type": "code",
   "execution_count": 15,
   "id": "bbfcb05b",
   "metadata": {},
   "outputs": [
    {
     "data": {
      "text/plain": [
       "<title>Category:Demographics by country - Wikipedia</title>"
      ]
     },
     "execution_count": 15,
     "metadata": {},
     "output_type": "execute_result"
    }
   ],
   "source": [
    "doc2.find('title')"
   ]
  },
  {
   "cell_type": "markdown",
   "id": "c637564d",
   "metadata": {},
   "source": [
    "As evident above, `title` is returning the same value from function, as returned from original code above. So function is working just fine. "
   ]
  },
  {
   "cell_type": "markdown",
   "id": "8d36ec95",
   "metadata": {},
   "source": [
    "## Extract country names and country URLs from the main Wiki page"
   ]
  },
  {
   "cell_type": "markdown",
   "id": "c9d3dd02",
   "metadata": {},
   "source": [
    "![Countries](https://i.imgur.com/8V5Niuk.png)\n",
    "\n",
    "Now we can use the parsed object to find `div` tag in the HTML. From our manual inspection of the web page, we found that country names & URLs are embedded in this `div` tag of HTML. Below snippet would bring all the `div` objects from this HTML, each one representing a separate countries. \n",
    "\n",
    "Using this `div` tag, we can gather all the countries, as well as country URLs. "
   ]
  },
  {
   "cell_type": "code",
   "execution_count": 16,
   "id": "e1ddce95",
   "metadata": {},
   "outputs": [],
   "source": [
    "div_tags = doc.find_all('div', {'class': 'CategoryTreeItem'})"
   ]
  },
  {
   "cell_type": "code",
   "execution_count": 17,
   "id": "04d060f0",
   "metadata": {},
   "outputs": [
    {
     "data": {
      "text/plain": [
       "[<div class=\"CategoryTreeItem\"><span class=\"CategoryTreeBullet\"><span class=\"CategoryTreeToggle\" data-ct-state=\"collapsed\" data-ct-title=\"Demographic_history_by_country_or_region\"></span> </span> <a href=\"/wiki/Category:Demographic_history_by_country_or_region\" title=\"Category:Demographic history by country or region\">Demographic history by country or region</a>‎ <span dir=\"ltr\" title=\"Contains 12 subcategories, 29 pages, and 0 files\">(12 C, 29 P)</span></div>,\n",
       " <div class=\"CategoryTreeItem\"><span class=\"CategoryTreeBullet\"><span class=\"CategoryTreeToggle\" data-ct-state=\"collapsed\" data-ct-title=\"Demographics_by_former_country\"></span> </span> <a href=\"/wiki/Category:Demographics_by_former_country\" title=\"Category:Demographics by former country\">Demographics by former country</a>‎ <span dir=\"ltr\" title=\"Contains 8 subcategories, 1 page, and 0 files\">(8 C, 1 P)</span></div>,\n",
       " <div class=\"CategoryTreeItem\"><span class=\"CategoryTreeBullet\"><span class=\"CategoryTreeToggle\" data-ct-state=\"collapsed\" data-ct-title=\"Demographics_by_continent_and_country\"></span> </span> <a href=\"/wiki/Category:Demographics_by_continent_and_country\" title=\"Category:Demographics by continent and country\">Demographics by continent and country</a>‎ <span dir=\"ltr\" title=\"Contains 7 subcategories, 0 pages, and 0 files\">(7 C)</span></div>]"
      ]
     },
     "execution_count": 17,
     "metadata": {},
     "output_type": "execute_result"
    }
   ],
   "source": [
    "div_tags[:3]"
   ]
  },
  {
   "cell_type": "markdown",
   "id": "6a58a63a",
   "metadata": {},
   "source": [
    "Let's take the first value of div_tags and look at it's \"a\" tag. "
   ]
  },
  {
   "cell_type": "code",
   "execution_count": 18,
   "id": "eb85b03d",
   "metadata": {},
   "outputs": [
    {
     "data": {
      "text/plain": [
       "'Demographics of Afghanistan'"
      ]
     },
     "execution_count": 18,
     "metadata": {},
     "output_type": "execute_result"
    }
   ],
   "source": [
    "div_tags[11].a.text"
   ]
  },
  {
   "cell_type": "markdown",
   "id": "c32dabe1",
   "metadata": {},
   "source": [
    "As \"a\" tag is returning \"Demographics of Afghanistan\", we can easily extract the name of country by replacing \"Demographics of \" with \"\" and that give us the name of country."
   ]
  },
  {
   "cell_type": "code",
   "execution_count": 19,
   "id": "2ba4071a",
   "metadata": {},
   "outputs": [
    {
     "data": {
      "text/plain": [
       "'Afghanistan'"
      ]
     },
     "execution_count": 19,
     "metadata": {},
     "output_type": "execute_result"
    }
   ],
   "source": [
    "div_tags[11].a.text.replace('Demographics of ','')"
   ]
  },
  {
   "cell_type": "markdown",
   "id": "2c679370",
   "metadata": {},
   "source": [
    "Similarly, we can extract the relative URL of the country by replacing \" \" (spaces) with \"\\_\" (underscore). Then we can append the [base URL]('https://en.wikipedia.org/wiki/') to this relative URL to get the complete URL for the country. "
   ]
  },
  {
   "cell_type": "code",
   "execution_count": 20,
   "id": "057bce22",
   "metadata": {},
   "outputs": [
    {
     "data": {
      "text/plain": [
       "'Demographics_of_Afghanistan'"
      ]
     },
     "execution_count": 20,
     "metadata": {},
     "output_type": "execute_result"
    }
   ],
   "source": [
    "div_tags[11].a.text.replace(' ','_')"
   ]
  },
  {
   "cell_type": "code",
   "execution_count": 21,
   "id": "981bc01f",
   "metadata": {},
   "outputs": [
    {
     "data": {
      "text/plain": [
       "'https://en.wikipedia.org/wiki/Demographic_history_by_country_or_region'"
      ]
     },
     "execution_count": 21,
     "metadata": {},
     "output_type": "execute_result"
    }
   ],
   "source": [
    "'https://en.wikipedia.org/wiki/' + div_tags[0].a.text.replace(' ','_')"
   ]
  },
  {
   "cell_type": "markdown",
   "id": "407e2818",
   "metadata": {},
   "source": [
    "## Compile extracted information into Python lists and dictionaries"
   ]
  },
  {
   "cell_type": "markdown",
   "id": "f26533ba",
   "metadata": {},
   "source": [
    "#### Let's create some helper functions to parse information from the page\n",
    "\n",
    "To get list of countries, we can pick `div` tags with the `class` CategoryTreeItem\n",
    "\n",
    "![Countries](https://i.imgur.com/8V5Niuk.png)\n",
    "\n",
    "Now we can create 2 functions that scrape all country names and all country URLs. We can write another function to convert these lists of country names and country URLs into a dictionary. "
   ]
  },
  {
   "cell_type": "code",
   "execution_count": 22,
   "id": "7455943a",
   "metadata": {},
   "outputs": [],
   "source": [
    "def get_country_list(doc):\n",
    "    '''\n",
    "    This function finds all the \"div\" tags to identify the country names. The function also removes some div tags, which are not countries\n",
    "    '''\n",
    "    div_tags = doc.find_all('div', {'class': 'CategoryTreeItem'})\n",
    "    \n",
    "    countries = []\n",
    "\n",
    "    for i in div_tags:\n",
    "        countries.append(i.a.text.replace('Demographics of ',''))\n",
    "\n",
    "    # Removes the div tags that are not countries\n",
    "    countries.remove('Demographic history by country or region')\n",
    "    countries.remove('Demographics by former country')\n",
    "    countries.remove('Demographics by continent and country')\n",
    "    countries.remove('Ageing by country')\n",
    "    countries.remove('Ethnic groups by country')\n",
    "    countries.remove('Expatriates by country of residence')\n",
    "    countries.remove('Immigration by country')\n",
    "    countries.remove('People by ethnic or national origin')\n",
    "    countries.remove('Social groups by country')\n",
    "    \n",
    "    return(countries)"
   ]
  },
  {
   "cell_type": "markdown",
   "id": "7aea5e1b",
   "metadata": {},
   "source": [
    "In this function, we are extracting the country name and keep appending in the \"countries\" list, as long as we keep getting the div_tags. So basically, the function would extract country name from each `div` tag, and make a list of countries in the list object \"countries\". So this function `get_country_list` is used to get the list of countries. The function also removes the div tags that are not countries. "
   ]
  },
  {
   "cell_type": "code",
   "execution_count": 23,
   "id": "ca94c0cb",
   "metadata": {},
   "outputs": [],
   "source": [
    "cntrys = get_country_list(doc)"
   ]
  },
  {
   "cell_type": "code",
   "execution_count": 24,
   "id": "b327c74b",
   "metadata": {},
   "outputs": [
    {
     "data": {
      "text/plain": [
       "191"
      ]
     },
     "execution_count": 24,
     "metadata": {},
     "output_type": "execute_result"
    }
   ],
   "source": [
    "len(cntrys)"
   ]
  },
  {
   "cell_type": "markdown",
   "id": "a8c9a9b3",
   "metadata": {},
   "source": [
    "There are 190 countries scraped from the Wiki page, and the preview of top 5 countries look like below."
   ]
  },
  {
   "cell_type": "code",
   "execution_count": 25,
   "id": "076d7205",
   "metadata": {},
   "outputs": [
    {
     "data": {
      "text/plain": [
       "['Abkhazia', 'Afghanistan', 'Albania', 'Algeria', 'American Samoa']"
      ]
     },
     "execution_count": 25,
     "metadata": {},
     "output_type": "execute_result"
    }
   ],
   "source": [
    "cntrys[1:6]"
   ]
  },
  {
   "cell_type": "markdown",
   "id": "e04e4c5a",
   "metadata": {},
   "source": [
    "To get list of countries URLs, we can pick `div` tags with the `class` CategoryTreeItem and then replace spaces with underscore to get relative URL. Once we append the base URL to the relative URL, we can the complete URL. This way as similar to previous function, we have defined this function as well for country urls as below. "
   ]
  },
  {
   "cell_type": "code",
   "execution_count": 26,
   "id": "6579d6fd",
   "metadata": {},
   "outputs": [],
   "source": [
    "def get_country_url_list(doc):\n",
    "    '''\n",
    "    This function finds all the \"div\" tags to identify the country URLs. The function also removes some div tags, which are not country URLs.\n",
    "    '''\n",
    "    div_tags = doc.find_all('div', {'class': 'CategoryTreeItem'})\n",
    "    \n",
    "    country_urls = []\n",
    "    base_url = 'https://en.wikipedia.org/wiki/'\n",
    "\n",
    "    for i in div_tags:\n",
    "        country_urls.append(base_url + i.a.text.replace(' ','_'))\n",
    "\n",
    "    # Removes the div tags that are not URLs for the countries\n",
    "    country_urls.remove('https://en.wikipedia.org/wiki/Demographic_history_by_country_or_region')\n",
    "    country_urls.remove('https://en.wikipedia.org/wiki/Demographics_by_former_country')\n",
    "    country_urls.remove('https://en.wikipedia.org/wiki/Demographics_by_continent_and_country')\n",
    "    country_urls.remove('https://en.wikipedia.org/wiki/Ageing_by_country')\n",
    "    country_urls.remove('https://en.wikipedia.org/wiki/Ethnic_groups_by_country')\n",
    "    country_urls.remove('https://en.wikipedia.org/wiki/Expatriates_by_country_of_residence')\n",
    "    country_urls.remove('https://en.wikipedia.org/wiki/Immigration_by_country')\n",
    "    country_urls.remove('https://en.wikipedia.org/wiki/People_by_ethnic_or_national_origin')\n",
    "    country_urls.remove('https://en.wikipedia.org/wiki/Social_groups_by_country')\n",
    "    \n",
    "    return(country_urls)"
   ]
  },
  {
   "cell_type": "markdown",
   "id": "374a0eb4",
   "metadata": {},
   "source": [
    "Country URLs are also captured from the same tag `div`, just need to replace spaces with \"\\_\". For ex, \"Demographics of India\" needs to be changed to \"Demographics_of_India\" and added to base URL to become full URL as \"https://en.wikipedia.org/wiki/Demographics_of_India\". The function above also removes the div tags that are not URLs of the countries. "
   ]
  },
  {
   "cell_type": "code",
   "execution_count": 27,
   "id": "e55c9b29",
   "metadata": {},
   "outputs": [],
   "source": [
    "cntry_url = get_country_url_list(doc)"
   ]
  },
  {
   "cell_type": "code",
   "execution_count": 28,
   "id": "f2c01320",
   "metadata": {},
   "outputs": [
    {
     "data": {
      "text/plain": [
       "191"
      ]
     },
     "execution_count": 28,
     "metadata": {},
     "output_type": "execute_result"
    }
   ],
   "source": [
    "len(cntry_url)"
   ]
  },
  {
   "cell_type": "markdown",
   "id": "a624c450",
   "metadata": {},
   "source": [
    "There are 190 country URLs, and they look like below. "
   ]
  },
  {
   "cell_type": "code",
   "execution_count": 29,
   "id": "142e00a3",
   "metadata": {},
   "outputs": [
    {
     "data": {
      "text/plain": [
       "['https://en.wikipedia.org/wiki/Demographics_of_Abkhazia',\n",
       " 'https://en.wikipedia.org/wiki/Demographics_of_Afghanistan',\n",
       " 'https://en.wikipedia.org/wiki/Demographics_of_Albania',\n",
       " 'https://en.wikipedia.org/wiki/Demographics_of_Algeria',\n",
       " 'https://en.wikipedia.org/wiki/Demographics_of_American_Samoa']"
      ]
     },
     "execution_count": 29,
     "metadata": {},
     "output_type": "execute_result"
    }
   ],
   "source": [
    "cntry_url[1:6]"
   ]
  },
  {
   "cell_type": "markdown",
   "id": "30a412a2",
   "metadata": {},
   "source": [
    "#### Now that we have 2 lists created to hold the list of countries and list of country URLs, let's create a wrapper function to hold these 2 lists in a dictionary, which later can be converted into a pandas dataframe."
   ]
  },
  {
   "cell_type": "code",
   "execution_count": 30,
   "id": "855d0789",
   "metadata": {},
   "outputs": [],
   "source": [
    "def scrape_countries():\n",
    "    '''This function creates a python dictionary to combine the lists created for country names & URLs'''\n",
    "    countries_dict = {\n",
    "        'country': get_country_list(doc),\n",
    "        'country_url': get_country_url_list(doc)\n",
    "    }\n",
    "    return pd.DataFrame(countries_dict)"
   ]
  },
  {
   "cell_type": "markdown",
   "id": "b1e27413",
   "metadata": {},
   "source": [
    "Let's test the function, if we are getting the list of countries and their URLs"
   ]
  },
  {
   "cell_type": "code",
   "execution_count": 31,
   "id": "378e4d8a",
   "metadata": {},
   "outputs": [],
   "source": [
    "countries_and_url_df = scrape_countries()"
   ]
  },
  {
   "cell_type": "code",
   "execution_count": 32,
   "id": "1e1410ef",
   "metadata": {},
   "outputs": [
    {
     "data": {
      "text/html": [
       "<div>\n",
       "<style scoped>\n",
       "    .dataframe tbody tr th:only-of-type {\n",
       "        vertical-align: middle;\n",
       "    }\n",
       "\n",
       "    .dataframe tbody tr th {\n",
       "        vertical-align: top;\n",
       "    }\n",
       "\n",
       "    .dataframe thead th {\n",
       "        text-align: right;\n",
       "    }\n",
       "</style>\n",
       "<table border=\"1\" class=\"dataframe\">\n",
       "  <thead>\n",
       "    <tr style=\"text-align: right;\">\n",
       "      <th></th>\n",
       "      <th>country</th>\n",
       "      <th>country_url</th>\n",
       "    </tr>\n",
       "  </thead>\n",
       "  <tbody>\n",
       "    <tr>\n",
       "      <th>1</th>\n",
       "      <td>Abkhazia</td>\n",
       "      <td>https://en.wikipedia.org/wiki/Demographics_of_...</td>\n",
       "    </tr>\n",
       "    <tr>\n",
       "      <th>2</th>\n",
       "      <td>Afghanistan</td>\n",
       "      <td>https://en.wikipedia.org/wiki/Demographics_of_...</td>\n",
       "    </tr>\n",
       "    <tr>\n",
       "      <th>3</th>\n",
       "      <td>Albania</td>\n",
       "      <td>https://en.wikipedia.org/wiki/Demographics_of_...</td>\n",
       "    </tr>\n",
       "    <tr>\n",
       "      <th>4</th>\n",
       "      <td>Algeria</td>\n",
       "      <td>https://en.wikipedia.org/wiki/Demographics_of_...</td>\n",
       "    </tr>\n",
       "    <tr>\n",
       "      <th>5</th>\n",
       "      <td>American Samoa</td>\n",
       "      <td>https://en.wikipedia.org/wiki/Demographics_of_...</td>\n",
       "    </tr>\n",
       "  </tbody>\n",
       "</table>\n",
       "</div>"
      ],
      "text/plain": [
       "          country                                        country_url\n",
       "1        Abkhazia  https://en.wikipedia.org/wiki/Demographics_of_...\n",
       "2     Afghanistan  https://en.wikipedia.org/wiki/Demographics_of_...\n",
       "3         Albania  https://en.wikipedia.org/wiki/Demographics_of_...\n",
       "4         Algeria  https://en.wikipedia.org/wiki/Demographics_of_...\n",
       "5  American Samoa  https://en.wikipedia.org/wiki/Demographics_of_..."
      ]
     },
     "execution_count": 32,
     "metadata": {},
     "output_type": "execute_result"
    }
   ],
   "source": [
    "countries_and_url_df[1:6]"
   ]
  },
  {
   "cell_type": "markdown",
   "id": "0bc42bd0",
   "metadata": {},
   "source": [
    "We should get same total 190 records, as we got from total in the countries and URL list. "
   ]
  },
  {
   "cell_type": "code",
   "execution_count": 33,
   "id": "6528d26f",
   "metadata": {},
   "outputs": [
    {
     "data": {
      "text/plain": [
       "191"
      ]
     },
     "execution_count": 33,
     "metadata": {},
     "output_type": "execute_result"
    }
   ],
   "source": [
    "len(countries_and_url_df)"
   ]
  },
  {
   "cell_type": "markdown",
   "id": "de1df39d",
   "metadata": {},
   "source": [
    "Now we can write these 190 countries along with their demographic URLs into a CSV file."
   ]
  },
  {
   "cell_type": "code",
   "execution_count": 34,
   "id": "7535c1d6",
   "metadata": {},
   "outputs": [],
   "source": [
    "countries_and_url_df.to_csv('countries.csv', index=None)"
   ]
  },
  {
   "cell_type": "markdown",
   "id": "69eb11fb",
   "metadata": {},
   "source": [
    "## Extract and combine data from multiple pages\n",
    "\n",
    "### Get the demographic information for a country"
   ]
  },
  {
   "cell_type": "markdown",
   "id": "7708b242",
   "metadata": {},
   "source": [
    "Now that we have the list of countries and URLs, we can download the individual country URL using `requests` to download the HTML content, and parse the HTML content through `beautifulsoup` to find specific tags for demographic information. \n",
    "\n",
    "In this specific example, we would need to find all `th` tags with class `infobox-label` to identify the headers for demographic information. For example: Population, Growth Rate, Birth Rate etc. Similarly, we can use `td` tags along with class `infobox-data` to identify data elements for demographic information. For example: 39,864,082 is the population of Afghanistan from the country page. \n",
    "\n",
    "![demographic info-tags and class](https://i.imgur.com/pK5BTPW.png)"
   ]
  },
  {
   "cell_type": "markdown",
   "id": "727f6500",
   "metadata": {},
   "source": [
    "Let's create a function that downloads the country URLs, finds the `th` and `td` tags along with the respective classes to scrape the demographic headers (i.e. Population, Growth rate, Birth rate, Death rate etc) and the corresponding data for these headers.  "
   ]
  },
  {
   "cell_type": "code",
   "execution_count": 35,
   "id": "13ff7939",
   "metadata": {},
   "outputs": [],
   "source": [
    "import pandas as pd\n",
    "\n",
    "def get_country_demo(country_name):\n",
    "    '''\n",
    "    This function download country page from Wiki using requests, parse the HTML content using BeautifulSoup and \n",
    "    find \"th\" and \"td\" tags to scrape demographic headers and data. Once the required info is scraped, it loads them in lists and dictionary.\n",
    "    '''\n",
    "    country_page_url = 'https://en.wikipedia.org/wiki/Demographics_of_' + country_name\n",
    "    response = requests.get(country_page_url)\n",
    "    if response.status_code != 200:\n",
    "        print('Country page could not be downloaded for {}'.format(country_name))\n",
    "        \n",
    "    country_doc = BeautifulSoup(response.text, 'html.parser')\n",
    "\n",
    "    demographic_headers = country_doc.find_all('th', {'class' : 'infobox-label'})\n",
    "    \n",
    "    if len(demographic_headers) == 0:\n",
    "        print('Demographic headers do not exist for ', country_name)\n",
    "    else:\n",
    "        headers_lst = ['Country']\n",
    "        for i in range(len(demographic_headers)):\n",
    "            if len(demographic_headers[i].text) != 0:\n",
    "                headers_lst.append(demographic_headers[i].text)\n",
    "            else:\n",
    "                headers_lst.append(None)\n",
    "    \n",
    "    demographic_data = country_doc.find_all('td', {'class' : 'infobox-data'})\n",
    "    \n",
    "    if len(demographic_data) == 0:\n",
    "        print('Demographic data do not exist for {}'.format(country_name))\n",
    "        country_demo_dict = None\n",
    "    else:\n",
    "        data_lst = [country_name]\n",
    "        for i in range(len(demographic_data)):\n",
    "            if len(demographic_data[i].text) != 0:\n",
    "                data_lst.append(demographic_data[i].text.split()[0])\n",
    "            else:\n",
    "                data_lst.append(None)\n",
    "\n",
    "        country_demo_dict = dict(zip(headers_lst, data_lst))\n",
    "\n",
    "    return pd.DataFrame([country_demo_dict])"
   ]
  },
  {
   "cell_type": "markdown",
   "id": "dce7954b",
   "metadata": {},
   "source": [
    "The above function download the web content, parse HTML and find required tags to scrape demographic information, which probably could have done in 2-3 smaller functions. The reason why it is chunked into single function is we still need country_name information from top to bottom in this function. If we had to write smaller function, we would have to return the same variable in all smaller functions. \n",
    "\n",
    "Below is the usage example of this function, how & what demographic infomation it retrieves from corresponding country page"
   ]
  },
  {
   "cell_type": "code",
   "execution_count": 36,
   "id": "659cb6a4",
   "metadata": {},
   "outputs": [
    {
     "data": {
      "text/html": [
       "<div>\n",
       "<style scoped>\n",
       "    .dataframe tbody tr th:only-of-type {\n",
       "        vertical-align: middle;\n",
       "    }\n",
       "\n",
       "    .dataframe tbody tr th {\n",
       "        vertical-align: top;\n",
       "    }\n",
       "\n",
       "    .dataframe thead th {\n",
       "        text-align: right;\n",
       "    }\n",
       "</style>\n",
       "<table border=\"1\" class=\"dataframe\">\n",
       "  <thead>\n",
       "    <tr style=\"text-align: right;\">\n",
       "      <th></th>\n",
       "      <th>Country</th>\n",
       "      <th>Population</th>\n",
       "      <th>Growth rate</th>\n",
       "      <th>Birth rate</th>\n",
       "      <th>Death rate</th>\n",
       "      <th>Life expectancy</th>\n",
       "      <th>• male</th>\n",
       "      <th>• female</th>\n",
       "      <th>Fertility rate</th>\n",
       "      <th>Infant mortality rate</th>\n",
       "      <th>0–14 years</th>\n",
       "      <th>15–64 years</th>\n",
       "      <th>65 and over</th>\n",
       "      <th>At birth</th>\n",
       "      <th>Nationality</th>\n",
       "      <th>Major ethnic</th>\n",
       "      <th>Minor ethnic</th>\n",
       "      <th>Official</th>\n",
       "      <th>Spoken</th>\n",
       "    </tr>\n",
       "  </thead>\n",
       "  <tbody>\n",
       "    <tr>\n",
       "      <th>0</th>\n",
       "      <td>China</td>\n",
       "      <td>1,411,750,000</td>\n",
       "      <td>-0.06%</td>\n",
       "      <td>6.77</td>\n",
       "      <td>7.37</td>\n",
       "      <td>78.6</td>\n",
       "      <td>76.0</td>\n",
       "      <td>81.3</td>\n",
       "      <td>1.08</td>\n",
       "      <td>6.76</td>\n",
       "      <td>17.29%</td>\n",
       "      <td>70.37%</td>\n",
       "      <td>0.90</td>\n",
       "      <td>1.11</td>\n",
       "      <td>noun:</td>\n",
       "      <td>Han</td>\n",
       "      <td>Zhuang,</td>\n",
       "      <td>Standard</td>\n",
       "      <td>Various;</td>\n",
       "    </tr>\n",
       "  </tbody>\n",
       "</table>\n",
       "</div>"
      ],
      "text/plain": [
       "  Country     Population Growth rate Birth rate Death rate Life expectancy  \\\n",
       "0   China  1,411,750,000      -0.06%       6.77       7.37            78.6   \n",
       "\n",
       "   • male  • female Fertility rate Infant mortality rate 0–14 years  \\\n",
       "0    76.0      81.3           1.08                  6.76     17.29%   \n",
       "\n",
       "  15–64 years 65 and over At birth Nationality Major ethnic Minor ethnic  \\\n",
       "0      70.37%        0.90     1.11       noun:          Han      Zhuang,   \n",
       "\n",
       "   Official    Spoken  \n",
       "0  Standard  Various;  "
      ]
     },
     "execution_count": 36,
     "metadata": {},
     "output_type": "execute_result"
    }
   ],
   "source": [
    "get_country_demo('China')"
   ]
  },
  {
   "cell_type": "markdown",
   "id": "3761fc9f",
   "metadata": {},
   "source": [
    "Now that we can get all the demographic information from specific country page, we will create a function that separates the scraped demographic information for specific country page into separate variables. For this exercise, we are interested in scraping only 5 variables (Population, Growth rate, Birth rate, Death rate, Life expectency). These variables are returned by the function, so that later on we can loop through these values to store them all together. "
   ]
  },
  {
   "cell_type": "code",
   "execution_count": 37,
   "id": "6b4d7cf5",
   "metadata": {},
   "outputs": [],
   "source": [
    "import os\n",
    "def scrape_country_separate_var(country, country_url):\n",
    "    '''This function separates the list of variables into separate variables, so that we can use the in later stage'''\n",
    "    individual_country_df = get_country_demo(country)\n",
    "    Country_var = country\n",
    "    \n",
    "    try:\n",
    "        Population_var = individual_country_df['Population'][0]\n",
    "    except:\n",
    "        Population_var = 'N/A'\n",
    "        \n",
    "    try:\n",
    "        Growth_rate_var = individual_country_df['Growth rate'][0]\n",
    "    except:\n",
    "        Growth_rate_var = 'N/A'        \n",
    "        \n",
    "    try:\n",
    "        Birth_rate_var = individual_country_df['Birth rate'][0]\n",
    "    except:\n",
    "        Birth_rate_var = 'N/A'\n",
    "       \n",
    "    try:\n",
    "        Death_rate_var = individual_country_df['Death rate'][0]\n",
    "    except:\n",
    "        Death_rate_var = 'N/A'\n",
    "        \n",
    "    try:\n",
    "        Life_expectancy_var = individual_country_df['Life expectancy'][0]\n",
    "    except:\n",
    "        Life_expectancy_var = 'N/A'        \n",
    "    \n",
    "    #individual_country_df.to_csv('data/'+country+'.csv', index=None)\n",
    "    \n",
    "    return Country_var, Population_var, Growth_rate_var, Birth_rate_var, Death_rate_var, Life_expectancy_var"
   ]
  },
  {
   "cell_type": "code",
   "execution_count": 38,
   "id": "99efddcf",
   "metadata": {},
   "outputs": [
    {
     "data": {
      "text/plain": [
       "('Afghanistan', '40,870,394', '2.34%', '38.3', '13.7', '63.2')"
      ]
     },
     "execution_count": 38,
     "metadata": {},
     "output_type": "execute_result"
    }
   ],
   "source": [
    "scrape_country_separate_var('Afghanistan','https://en.wikipedia.org/wiki/Demographics_of_Afghanistan')"
   ]
  },
  {
   "cell_type": "code",
   "execution_count": 39,
   "id": "f0176153",
   "metadata": {},
   "outputs": [
    {
     "data": {
      "text/plain": [
       "('United States', '334,233,854', '0.4%', '11.0', '10.4', '76.1')"
      ]
     },
     "execution_count": 39,
     "metadata": {},
     "output_type": "execute_result"
    }
   ],
   "source": [
    "scrape_country_separate_var('United States','https://en.wikipedia.org/wiki/Demographics_of_Japan')"
   ]
  },
  {
   "cell_type": "markdown",
   "id": "45984653",
   "metadata": {},
   "source": [
    "## Save the extracted information to a CSV file."
   ]
  },
  {
   "cell_type": "code",
   "execution_count": 40,
   "id": "2f771119",
   "metadata": {},
   "outputs": [],
   "source": [
    "def scrape_countries_demographics():\n",
    "    '''\n",
    "    This function would loop through all the countries to get the demographic information and saves them into a CSV file\n",
    "    '''\n",
    "    All_Countries = []\n",
    "    All_Population = []\n",
    "    All_Growth_rate = []\n",
    "    All_Birth_rate = []\n",
    "    All_Death_rate = []\n",
    "    All_Life_expectancy = []\n",
    "    \n",
    "    countries_df = scrape_countries()\n",
    "    \n",
    "    os.makedirs('data',exist_ok=True)\n",
    "\n",
    "    for index, row in countries_df.iterrows():\n",
    "        print('Scraping demographic data for \"{}\"'.format(row['country']))\n",
    "        print(row['country'], row['country_url'])\n",
    "        Country_var, Population_var, Growth_rate_var, Birth_rate_var, Death_rate_var, Life_expectancy_var = scrape_country_separate_var(row['country'], row['country_url'])\n",
    "        print(Country_var, Population_var, Growth_rate_var, Birth_rate_var, Death_rate_var, Life_expectancy_var)\n",
    "        \n",
    "        All_Countries.append(Country_var)\n",
    "        All_Population.append(Population_var)\n",
    "        All_Growth_rate.append(Growth_rate_var)\n",
    "        All_Birth_rate.append(Birth_rate_var)\n",
    "        All_Death_rate.append(Death_rate_var)\n",
    "        All_Life_expectancy.append(Life_expectancy_var)\n",
    "        \n",
    "    final_demographic_dict = {\n",
    "        'Country' : All_Countries,\n",
    "        'Population' : All_Population,\n",
    "        'Growth_rate' : All_Growth_rate,\n",
    "        'Birth_rate' : All_Birth_rate,\n",
    "        'Death_rate' : All_Death_rate,\n",
    "        'Life_expectancy' : All_Life_expectancy\n",
    "    }\n",
    "    \n",
    "    country_demographic_info_df = pd.DataFrame(final_demographic_dict)\n",
    "    country_demographic_info_df.to_csv('data/country_demographic_info.csv', index=None)\n",
    "    return country_demographic_info_df"
   ]
  },
  {
   "cell_type": "markdown",
   "id": "716f95c3",
   "metadata": {},
   "source": [
    "Let's run it to scrape the demographic information for all the countries on the page https://en.wikipedia.org/wiki/Category:Demographics_by_country"
   ]
  },
  {
   "cell_type": "code",
   "execution_count": 41,
   "id": "8bbc85d6",
   "metadata": {
    "scrolled": true
   },
   "outputs": [
    {
     "name": "stdout",
     "output_type": "stream",
     "text": [
      "Scraping demographic data for \"Censuses by country\"\n",
      "Censuses by country https://en.wikipedia.org/wiki/Censuses_by_country\n",
      "Country page could not be downloaded for Censuses by country\n",
      "Demographic headers do not exist for  Censuses by country\n",
      "Demographic data do not exist for Censuses by country\n",
      "Censuses by country N/A N/A N/A N/A N/A\n",
      "Scraping demographic data for \"Abkhazia\"\n",
      "Abkhazia https://en.wikipedia.org/wiki/Demographics_of_Abkhazia\n",
      "Demographic headers do not exist for  Abkhazia\n",
      "Demographic data do not exist for Abkhazia\n",
      "Abkhazia N/A N/A N/A N/A N/A\n",
      "Scraping demographic data for \"Afghanistan\"\n",
      "Afghanistan https://en.wikipedia.org/wiki/Demographics_of_Afghanistan\n",
      "Afghanistan 40,870,394 2.34% 38.3 13.7 63.2\n",
      "Scraping demographic data for \"Albania\"\n",
      "Albania https://en.wikipedia.org/wiki/Demographics_of_Albania\n",
      "Albania 2,811,666 0.22% 9.7 10.9 N/A\n",
      "Scraping demographic data for \"Algeria\"\n",
      "Algeria https://en.wikipedia.org/wiki/Demographics_of_Algeria\n",
      "Algeria 44,508,736 1.34% 18.52 4.32 78.03\n",
      "Scraping demographic data for \"American Samoa\"\n",
      "American Samoa https://en.wikipedia.org/wiki/Demographics_of_American_Samoa\n",
      "Demographic headers do not exist for  American Samoa\n",
      "Demographic data do not exist for American Samoa\n",
      "American Samoa N/A N/A N/A N/A N/A\n",
      "Scraping demographic data for \"Andorra\"\n",
      "Andorra https://en.wikipedia.org/wiki/Demographics_of_Andorra\n",
      "Andorra 85,560 -0.1% 6.88 7.92 83.42\n",
      "Scraping demographic data for \"Angola\"\n",
      "Angola https://en.wikipedia.org/wiki/Demographics_of_Angola\n",
      "Angola 34,795,287 N/A 41.8 8.01 62.11\n",
      "Scraping demographic data for \"Antigua and Barbuda\"\n",
      "Antigua and Barbuda https://en.wikipedia.org/wiki/Demographics_of_Antigua_and_Barbuda\n",
      "Demographic headers do not exist for  Antigua and Barbuda\n",
      "Demographic data do not exist for Antigua and Barbuda\n",
      "Antigua and Barbuda N/A N/A N/A N/A N/A\n",
      "Scraping demographic data for \"Argentina\"\n",
      "Argentina https://en.wikipedia.org/wiki/Demographics_of_Argentina\n",
      "Argentina 46,044,703[1] 0.2% 11.56 9.53 78.55\n",
      "Scraping demographic data for \"Armenia\"\n",
      "Armenia https://en.wikipedia.org/wiki/Demographics_of_Armenia\n",
      "Armenia 3,046,100 0.27/1,000 2.97 1.76 N/A\n",
      "Scraping demographic data for \"Aruba\"\n",
      "Aruba https://en.wikipedia.org/wiki/Demographics_of_Aruba\n",
      "Demographic headers do not exist for  Aruba\n",
      "Demographic data do not exist for Aruba\n",
      "Aruba N/A N/A N/A N/A N/A\n",
      "Scraping demographic data for \"Australia\"\n",
      "Australia https://en.wikipedia.org/wiki/Demographics_of_Australia\n",
      "Australia 25,890,773 1.25% 12.3 6.77 83.09\n",
      "Scraping demographic data for \"Austria\"\n",
      "Austria https://en.wikipedia.org/wiki/Demographics_of_Austria\n",
      "Austria 8,913,088 0.32% 9.45 9.85 82.27\n",
      "Scraping demographic data for \"Azerbaijan\"\n",
      "Azerbaijan https://en.wikipedia.org/wiki/Demographics_of_Azerbaijan\n",
      "Azerbaijan 10,353,296 0.67% 13.59 6.92 74.15\n",
      "Scraping demographic data for \"Bahrain\"\n",
      "Bahrain https://en.wikipedia.org/wiki/Demographics_of_Bahrain\n",
      "Bahrain 1,472,380(2022 0.88% 12.4 2.82 79.9\n",
      "Scraping demographic data for \"the Bahamas\"\n",
      "the Bahamas https://en.wikipedia.org/wiki/Demographics_of_the_Bahamas\n",
      "Demographic headers do not exist for  the Bahamas\n",
      "Demographic data do not exist for the Bahamas\n",
      "the Bahamas N/A N/A N/A N/A N/A\n",
      "Scraping demographic data for \"Bangladesh\"\n",
      "Bangladesh https://en.wikipedia.org/wiki/Demographics_of_Bangladesh\n",
      "Bangladesh 169,356,251 0.98% 17.71 5.54 72.72\n",
      "Scraping demographic data for \"Belarus\"\n",
      "Belarus https://en.wikipedia.org/wiki/Demographics_of_Belarus\n",
      "Belarus 9,255,524 N/A N/A N/A N/A\n",
      "Scraping demographic data for \"Belgium\"\n",
      "Belgium https://en.wikipedia.org/wiki/Demographics_of_Belgium\n",
      "Belgium 11,556,297 0.59% 11.03 9.71 81.65\n",
      "Scraping demographic data for \"Belize\"\n",
      "Belize https://en.wikipedia.org/wiki/Demographics_of_Belize\n",
      "Belize 412,387 1.64% 21.28 3.94 75.82\n",
      "Scraping demographic data for \"Benin\"\n",
      "Benin https://en.wikipedia.org/wiki/Demographics_of_Benin\n",
      "Benin 13,754,688 3.34% 41.15 8.01 62.21\n",
      "Scraping demographic data for \"Bhutan\"\n",
      "Bhutan https://en.wikipedia.org/wiki/Demographics_of_Bhutan\n",
      "Bhutan 867,775 0.97% 15.94 6.22 72.31\n",
      "Scraping demographic data for \"Bolivia\"\n",
      "Bolivia https://en.wikipedia.org/wiki/Demographics_of_Bolivia\n",
      "Bolivia 10,027,254 21.2% 23.7 6.6 68.87\n",
      "Scraping demographic data for \"Bosnia and Herzegovina\"\n",
      "Bosnia and Herzegovina https://en.wikipedia.org/wiki/Demographics_of_Bosnia_and_Herzegovina\n",
      "Bosnia and Herzegovina 3,219,415 -0.22% 8.41 10.26 77.98\n",
      "Scraping demographic data for \"Botswana\"\n",
      "Botswana https://en.wikipedia.org/wiki/Demographics_of_Botswana\n",
      "Botswana 2,384,246 1.4% 20.28 9.05 65.64\n",
      "Scraping demographic data for \"Brazil\"\n",
      "Brazil https://en.wikipedia.org/wiki/Demographics_of_Brazil\n",
      "Brazil 217,240,060 0.7% 13.96 6.81 75.92\n",
      "Scraping demographic data for \"Brunei\"\n",
      "Brunei https://en.wikipedia.org/wiki/Demographics_of_Brunei\n",
      "Demographic headers do not exist for  Brunei\n",
      "Demographic data do not exist for Brunei\n",
      "Brunei N/A N/A N/A N/A N/A\n",
      "Scraping demographic data for \"Bulgaria\"\n",
      "Bulgaria https://en.wikipedia.org/wiki/Demographics_of_Bulgaria\n",
      "Bulgaria 6,428,318 –13.2 8.5 21.7 73.6\n",
      "Scraping demographic data for \"Burkina Faso\"\n",
      "Burkina Faso https://en.wikipedia.org/wiki/Demographics_of_Burkina_Faso\n",
      "Burkina Faso 21,935,389 2.53% 33.57 7.71 63.44\n",
      "Scraping demographic data for \"Burundi\"\n",
      "Burundi https://en.wikipedia.org/wiki/Demographics_of_Burundi\n",
      "Burundi 12,696,478 3.63% 35.17 5.96 67.42\n",
      "Scraping demographic data for \"Cambodia\"\n",
      "Cambodia https://en.wikipedia.org/wiki/Demographics_of_Cambodia\n",
      "Cambodia N/A 1.63% 22.5 6.0 69.6\n",
      "Scraping demographic data for \"Cameroon\"\n",
      "Cameroon https://en.wikipedia.org/wiki/Demographics_of_Cameroon\n",
      "Cameroon 29,321,637 2.75% 35.53 7.73 63.27\n",
      "Scraping demographic data for \"Canada\"\n",
      "Canada https://en.wikipedia.org/wiki/Demographics_of_Canada\n",
      "Canada 39,566,248 0.75% 10.17 8.12 83.8\n",
      "Scraping demographic data for \"Cape Verde\"\n",
      "Cape Verde https://en.wikipedia.org/wiki/Demographics_of_Cape_Verde\n",
      "Cape Verde 596,707 1.21% 18.49 5.8 73.75\n",
      "Scraping demographic data for \"the Central African Republic\"\n",
      "the Central African Republic https://en.wikipedia.org/wiki/Demographics_of_the_Central_African_Republic\n",
      "the Central African Republic 5,454,533 1.78% 32.79 11.76 55.52\n",
      "Scraping demographic data for \"Chad\"\n",
      "Chad https://en.wikipedia.org/wiki/Demographics_of_Chad\n",
      "Chad 17,963,211 3.09% 40.45 9.45 59.15\n",
      "Scraping demographic data for \"Chile\"\n",
      "Chile https://en.wikipedia.org/wiki/Demographics_of_Chile\n",
      "Chile 19,493,184[1][2] 0.63% 12.57 6.58 80.02\n",
      "Scraping demographic data for \"China\"\n",
      "China https://en.wikipedia.org/wiki/Demographics_of_China\n",
      "China 1,411,750,000 -0.06% 6.77 7.37 78.6\n",
      "Scraping demographic data for \"Colombia\"\n",
      "Colombia https://en.wikipedia.org/wiki/Demographics_of_Colombia\n",
      "Colombia 51,049,498 0.8% 18.9 5.8/1,000 79\n",
      "Scraping demographic data for \"the Comoros\"\n",
      "the Comoros https://en.wikipedia.org/wiki/Demographics_of_the_Comoros\n",
      "the Comoros 876,437 1.37% 22.52 6.55 67.2\n",
      "Scraping demographic data for \"the Democratic Republic of the Congo\"\n",
      "the Democratic Republic of the Congo https://en.wikipedia.org/wiki/Demographics_of_the_Democratic_Republic_of_the_Congo\n",
      "the Democratic Republic of the Congo 95,894,118 3.14% 40.08 7.94 61.83\n",
      "Scraping demographic data for \"the Republic of the Congo\"\n",
      "the Republic of the Congo https://en.wikipedia.org/wiki/Demographics_of_the_Republic_of_the_Congo\n",
      "the Republic of the Congo 5,835,806 2.34% 31.82 8.38 62.1\n",
      "Scraping demographic data for \"Costa Rica\"\n",
      "Costa Rica https://en.wikipedia.org/wiki/Demographics_of_Costa_Rica\n",
      "Costa Rica 5,153,957[1][2] N/A N/A N/A N/A\n",
      "Scraping demographic data for \"Croatia\"\n",
      "Croatia https://en.wikipedia.org/wiki/Demographics_of_Croatia\n",
      "Croatia 3,871,833 −5.0 8.9 12.9 78,2\n",
      "Scraping demographic data for \"Cuba\"\n",
      "Cuba https://en.wikipedia.org/wiki/Demographics_of_Cuba\n",
      "Cuba 11,113,215 -0.58% 9.92 7.58 5.0\n",
      "Scraping demographic data for \"Cyprus\"\n",
      "Cyprus https://en.wikipedia.org/wiki/Demographics_of_Cyprus\n",
      "Cyprus 1,295,102 1.06% 10.57 6.94 79.74\n",
      "Scraping demographic data for \"the Czech Republic\"\n",
      "the Czech Republic https://en.wikipedia.org/wiki/Demographics_of_the_Czech_Republic\n",
      "the Czech Republic 10,516,707 0.004% 8.9 10.7 79.3\n",
      "Scraping demographic data for \"Denmark\"\n",
      "Denmark https://en.wikipedia.org/wiki/Demographics_of_Denmark\n",
      "Denmark 5,935,619 1.0085% 9.85 10.02 81.66\n",
      "Scraping demographic data for \"Djibouti\"\n",
      "Djibouti https://en.wikipedia.org/wiki/Demographics_of_Djibouti\n"
     ]
    },
    {
     "name": "stdout",
     "output_type": "stream",
     "text": [
      "Djibouti 994,017 2.23% 25.27 8.23 62.4\n",
      "Scraping demographic data for \"Dominica\"\n",
      "Dominica https://en.wikipedia.org/wiki/Demographics_of_Dominica\n",
      "Demographic headers do not exist for  Dominica\n",
      "Demographic data do not exist for Dominica\n",
      "Dominica N/A N/A N/A N/A N/A\n",
      "Scraping demographic data for \"the Dominican Republic\"\n",
      "the Dominican Republic https://en.wikipedia.org/wiki/Demographics_of_the_Dominican_Republic\n",
      "the Dominican Republic 10,694,700 0.91% 18.03 6.29 72.56\n",
      "Scraping demographic data for \"East Timor\"\n",
      "East Timor https://en.wikipedia.org/wiki/Demographics_of_East_Timor\n",
      "East Timor 1,445,006 2.15% 30.94 5.61 69.92\n",
      "Scraping demographic data for \"Ecuador\"\n",
      "Ecuador https://en.wikipedia.org/wiki/Demographics_of_Ecuador\n",
      "Ecuador 18,213,749 1.443% N/A N/A N/A\n",
      "Scraping demographic data for \"Egypt\"\n",
      "Egypt https://en.wikipedia.org/wiki/Demographics_of_Egypt\n",
      "Egypt 103,376,607 1.68% 21.46 4.32 74.45\n",
      "Scraping demographic data for \"El Salvador\"\n",
      "El Salvador https://en.wikipedia.org/wiki/Demographics_of_El_Salvador\n",
      "El Salvador 6,568,745 0.57% 17.87 5.91 75.37\n",
      "Scraping demographic data for \"Equatorial Guinea\"\n",
      "Equatorial Guinea https://en.wikipedia.org/wiki/Demographics_of_Equatorial_Guinea\n",
      "Equatorial Guinea 1,679,172 3.5% 29.95 8.95 63.7\n",
      "Scraping demographic data for \"Eritrea\"\n",
      "Eritrea https://en.wikipedia.org/wiki/Demographics_of_Eritrea\n",
      "Eritrea Estimates 1.03% 27.04 6.69 66.85\n",
      "Scraping demographic data for \"Estonia\"\n",
      "Estonia https://en.wikipedia.org/wiki/Demographics_of_Estonia\n",
      "Estonia 1,357,739 +1,9% 9,97 13.96 78.8\n",
      "Scraping demographic data for \"Eswatini\"\n",
      "Eswatini https://en.wikipedia.org/wiki/Demographics_of_Eswatini\n",
      "Eswatini 1,121,761 0.75% 23.35 9.71 59.69\n",
      "Scraping demographic data for \"Ethiopia\"\n",
      "Ethiopia https://en.wikipedia.org/wiki/Demographics_of_Ethiopia\n",
      "Ethiopia 120,283,026[1][2] 2.5% 32.4 6.8 68.25\n",
      "Scraping demographic data for \"Fiji\"\n",
      "Fiji https://en.wikipedia.org/wiki/Demographics_of_Fiji\n",
      "Fiji 884,887 N/A 22.5 8.10 72.1\n",
      "Scraping demographic data for \"Finland\"\n",
      "Finland https://en.wikipedia.org/wiki/Demographics_of_Finland\n",
      "Finland 5 0.24% 8.9 10.4 81.76\n",
      "Scraping demographic data for \"France\"\n",
      "France https://en.wikipedia.org/wiki/Demographics_of_France\n",
      "France 68,035,000 N/A 11.0 10.0 82.2\n",
      "Scraping demographic data for \"Gabon\"\n",
      "Gabon https://en.wikipedia.org/wiki/Demographics_of_Gabon\n",
      "Gabon 2,340,613 2.4% 26.03 5.67 69.7\n",
      "Scraping demographic data for \"the Gambia\"\n",
      "the Gambia https://en.wikipedia.org/wiki/Demographics_of_the_Gambia\n",
      "the Gambia 2,639,916 38.3% 29.4 7 65.1\n",
      "Scraping demographic data for \"Georgia (country)\"\n",
      "Georgia (country) https://en.wikipedia.org/wiki/Demographics_of_Georgia_(country)\n",
      "Georgia (country) 3,688,647 1.5‰ 14.3‰ 12.8‰ 73.5\n",
      "Scraping demographic data for \"Germany\"\n",
      "Germany https://en.wikipedia.org/wiki/Demographics_of_Germany\n",
      "Germany 84,270,625 0.1 9.3 11.8 81.2\n",
      "Scraping demographic data for \"Ghana\"\n",
      "Ghana https://en.wikipedia.org/wiki/Demographics_of_Ghana\n",
      "Ghana 33,107,275 2.23% 28.55 6.14 69.37\n",
      "Scraping demographic data for \"Greece\"\n",
      "Greece https://en.wikipedia.org/wiki/Demographics_of_Greece\n",
      "Greece 10,482,487 -1.01 7.9 12.3 82.2\n",
      "Scraping demographic data for \"Grenada\"\n",
      "Grenada https://en.wikipedia.org/wiki/Demographics_of_Grenada\n",
      "Grenada 113,949 0.32% 13.94 8.31 75.74\n",
      "Scraping demographic data for \"Guatemala\"\n",
      "Guatemala https://en.wikipedia.org/wiki/Demographics_of_Guatemala\n",
      "Guatemala 17,703,190 1.58% 22.34 4.91 72.91\n",
      "Scraping demographic data for \"Guinea\"\n",
      "Guinea https://en.wikipedia.org/wiki/Demographics_of_Guinea\n",
      "Guinea 13,237,832 2.76% 35.67 8.12 63.9\n",
      "Scraping demographic data for \"Guinea-Bissau\"\n",
      "Guinea-Bissau https://en.wikipedia.org/wiki/Demographics_of_Guinea-Bissau\n",
      "Guinea-Bissau 2,026,778 2.53% 36.45 7.5 63.68\n",
      "Scraping demographic data for \"Guyana\"\n",
      "Guyana https://en.wikipedia.org/wiki/Demographics_of_Guyana\n",
      "Guyana 789,683 0.24% 16.72 6.91 N/A\n",
      "Scraping demographic data for \"Haiti\"\n",
      "Haiti https://en.wikipedia.org/wiki/Demographics_of_Haiti\n",
      "Haiti 11,334,637 1.2% 21.12 7.23 65.95\n",
      "Scraping demographic data for \"Honduras\"\n",
      "Honduras https://en.wikipedia.org/wiki/Demographics_of_Honduras\n",
      "Honduras 9,459,440 1.19% 17.92 4.68 75.17\n",
      "Scraping demographic data for \"Hungary\"\n",
      "Hungary https://en.wikipedia.org/wiki/Demographics_of_Hungary\n",
      "Hungary 9,730,000 −4.9 9.5 14.3 76.16\n",
      "Scraping demographic data for \"Iceland\"\n",
      "Iceland https://en.wikipedia.org/wiki/Demographics_of_Iceland\n",
      "Iceland 376,248 0.93% 12.96 6.56 83.64\n",
      "Scraping demographic data for \"India\"\n",
      "India https://en.wikipedia.org/wiki/Demographics_of_India\n",
      "India 1,407,563,842[1] 0.68% 16.42 9.42 67.7\n",
      "Scraping demographic data for \"Indonesia\"\n",
      "Indonesia https://en.wikipedia.org/wiki/Demographics_of_Indonesia\n",
      "Indonesia 270,203,917 0.79% 15.32 6.75 73.08\n",
      "Scraping demographic data for \"Iran\"\n",
      "Iran https://en.wikipedia.org/wiki/Demographics_of_Iran\n",
      "Iran 87,929,883 0.98% 15.27 5.17 75.25\n",
      "Scraping demographic data for \"Iraq\"\n",
      "Iraq https://en.wikipedia.org/wiki/Demographics_of_Iraq\n",
      "Iraq 45,000,000 2% 34.23 3.9 73.18\n",
      "Scraping demographic data for \"the Republic of Ireland\"\n",
      "the Republic of Ireland https://en.wikipedia.org/wiki/Demographics_of_the_Republic_of_Ireland\n",
      "the Republic of Ireland 5,123,536 1.77% 13.7 6.5 80.19\n",
      "Scraping demographic data for \"Israel\"\n",
      "Israel https://en.wikipedia.org/wiki/Demographics_of_Israel\n",
      "Israel 9,506,000 1.9% 21.5 5.2 82.7\n",
      "Scraping demographic data for \"Italy\"\n",
      "Italy https://en.wikipedia.org/wiki/Demographics_of_Italy\n",
      "Italy 58,850,717 -0.57% 6.8 12.5 82\n",
      "Scraping demographic data for \"Ivory Coast\"\n",
      "Ivory Coast https://en.wikipedia.org/wiki/Demographics_of_Ivory_Coast\n",
      "Ivory Coast 28,713,423 2.19% 28.3 7.6 62.26\n",
      "Scraping demographic data for \"Jamaica\"\n",
      "Jamaica https://en.wikipedia.org/wiki/Demographics_of_Jamaica\n",
      "Jamaica 2,818,596 0.08% 15.91 7.43 75.75\n",
      "Scraping demographic data for \"Japan\"\n",
      "Japan https://en.wikipedia.org/wiki/Demographics_of_Japan\n",
      "Japan 124,830,000[1] -0.7% 6.4 12.6 84.83\n",
      "Scraping demographic data for \"Jordan\"\n",
      "Jordan https://en.wikipedia.org/wiki/Demographics_of_Jordan\n",
      "Jordan 2023 2.05% 17.9 3.6 74.8\n",
      "Scraping demographic data for \"Kazakhstan\"\n",
      "Kazakhstan https://en.wikipedia.org/wiki/Demographics_of_Kazakhstan\n",
      "Kazakhstan 19,691,858 13.5/1,000 22.4 8.9 72.25\n",
      "Scraping demographic data for \"Kenya\"\n",
      "Kenya https://en.wikipedia.org/wiki/Demographics_of_Kenya\n",
      "Kenya 51,044,355 2.12% 26.39 5.01 69.69\n",
      "Scraping demographic data for \"Kiribati\"\n",
      "Kiribati https://en.wikipedia.org/wiki/Demographics_of_Kiribati\n",
      "Kiribati 128,874 N/A N/A N/A N/A\n",
      "Scraping demographic data for \"Korea\"\n",
      "Korea https://en.wikipedia.org/wiki/Demographics_of_Korea\n",
      "Demographic headers do not exist for  Korea\n",
      "Demographic data do not exist for Korea\n",
      "Korea N/A N/A N/A N/A N/A\n",
      "Scraping demographic data for \"Kosovo\"\n",
      "Kosovo https://en.wikipedia.org/wiki/Demographics_of_Kosovo\n",
      "Kosovo 1,935,259 0.06% 17.09 7.0 76.7\n",
      "Scraping demographic data for \"Kuwait\"\n",
      "Kuwait https://en.wikipedia.org/wiki/Demographics_of_Kuwait\n",
      "Kuwait 3,068,155 1.17% 17.78 2.25 79.13\n",
      "Scraping demographic data for \"Kyrgyzstan\"\n",
      "Kyrgyzstan https://en.wikipedia.org/wiki/Demographics_of_Kyrgyzstan\n",
      "Kyrgyzstan 6,636,800 1.32/1,000 24.0 6.0 71.9\n",
      "Scraping demographic data for \"Laos\"\n",
      "Laos https://en.wikipedia.org/wiki/Demographics_of_Laos\n",
      "Laos 7,749,595 1.34% 20.9 6.37 68.15\n",
      "Scraping demographic data for \"Latvia\"\n",
      "Latvia https://en.wikipedia.org/wiki/Demographics_of_Latvia\n",
      "Latvia 1,875,757 −1.08% 9.8 14.5 73.1\n",
      "Scraping demographic data for \"Lebanon\"\n",
      "Lebanon https://en.wikipedia.org/wiki/Demographics_of_Lebanon\n",
      "Lebanon 5,469,612 -6.68% 13.6 5.4 78.3\n",
      "Scraping demographic data for \"Lesotho\"\n",
      "Lesotho https://en.wikipedia.org/wiki/Demographics_of_Lesotho\n",
      "Lesotho 2,193,970 0.76% 23.15 11.05 59.57\n",
      "Scraping demographic data for \"Liberia\"\n",
      "Liberia https://en.wikipedia.org/wiki/Demographics_of_Liberia\n",
      "Liberia 5,358,483 2.73% 36.64 6.62 N/A\n",
      "Scraping demographic data for \"Libya\"\n",
      "Libya https://en.wikipedia.org/wiki/Demographics_of_Libya\n",
      "Libya 7,137,931 1.65% 21.56 3.45 73.29\n",
      "Scraping demographic data for \"Liechtenstein\"\n",
      "Liechtenstein https://en.wikipedia.org/wiki/Demographics_of_Liechtenstein\n",
      "Demographic headers do not exist for  Liechtenstein\n",
      "Demographic data do not exist for Liechtenstein\n",
      "Liechtenstein N/A N/A N/A N/A N/A\n",
      "Scraping demographic data for \"Lithuania\"\n",
      "Lithuania https://en.wikipedia.org/wiki/Demographics_of_Lithuania\n"
     ]
    },
    {
     "name": "stdout",
     "output_type": "stream",
     "text": [
      "Lithuania 2,830,546 −1.04% 9.26 15.12 75.78\n",
      "Scraping demographic data for \"Luxembourg\"\n",
      "Luxembourg https://en.wikipedia.org/wiki/Demographics_of_Luxembourg\n",
      "Luxembourg 650,364 1.64% 11.61 7.21 82.98\n",
      "Scraping demographic data for \"Madagascar\"\n",
      "Madagascar https://en.wikipedia.org/wiki/Demographics_of_Madagascar\n",
      "Madagascar 28,172,462 2.27% 28.68 6 N/A\n",
      "Scraping demographic data for \"Malaysia\"\n",
      "Malaysia https://en.wikipedia.org/wiki/Demographics_of_Malaysia\n",
      "Malaysia 33,871,431 1.03% 14.55 5.69 76.13\n",
      "Scraping demographic data for \"Malawi\"\n",
      "Malawi https://en.wikipedia.org/wiki/Demographics_of_Malawi\n",
      "Malawi 20,794,353 2.34% 27.94 4.58 72.44\n",
      "Scraping demographic data for \"the Maldives\"\n",
      "the Maldives https://en.wikipedia.org/wiki/Demographics_of_the_Maldives\n",
      "the Maldives 561,631 -0.14% 15.54 4.15 76.94\n",
      "Scraping demographic data for \"Mali\"\n",
      "Mali https://en.wikipedia.org/wiki/Demographics_of_Mali\n",
      "Mali 20,741,769 2.95% 41.07 8.53 62.41\n",
      "Scraping demographic data for \"Malta\"\n",
      "Malta https://en.wikipedia.org/wiki/Demographics_of_Malta\n",
      "Malta 464,186 0.67% 9.73 8.48 83.2\n",
      "Scraping demographic data for \"the Marshall Islands\"\n",
      "the Marshall Islands https://en.wikipedia.org/wiki/Demographics_of_the_Marshall_Islands\n",
      "Demographic headers do not exist for  the Marshall Islands\n",
      "Demographic data do not exist for the Marshall Islands\n",
      "the Marshall Islands N/A N/A N/A N/A N/A\n",
      "Scraping demographic data for \"Mauritania\"\n",
      "Mauritania https://en.wikipedia.org/wiki/Demographics_of_Mauritania\n",
      "Mauritania 4,161,925 1.99% 28.06 7.43 65.22\n",
      "Scraping demographic data for \"Mauritius\"\n",
      "Mauritius https://en.wikipedia.org/wiki/Demographics_of_Mauritius\n",
      "Mauritius 1,308,222 0.1% 9.86 8.86 74.86\n",
      "Scraping demographic data for \"Mexico\"\n",
      "Mexico https://en.wikipedia.org/wiki/Demographics_of_Mexico\n",
      "Mexico 129,150,971[1] 1.9% 18.3 5.8 76.66\n",
      "Scraping demographic data for \"Mongolia\"\n",
      "Mongolia https://en.wikipedia.org/wiki/Demographics_of_Mongolia\n",
      "Mongolia 3,296,866[1] 1.46%[1] 20.7 6.01 68.63\n",
      "Scraping demographic data for \"the Federated States of Micronesia\"\n",
      "the Federated States of Micronesia https://en.wikipedia.org/wiki/Demographics_of_the_Federated_States_of_Micronesia\n",
      "the Federated States of Micronesia 101,009 -0.67% 18.39 4.19 74.44\n",
      "Scraping demographic data for \"Moldova\"\n",
      "Moldova https://en.wikipedia.org/wiki/Demographics_of_Moldova\n",
      "Moldova 2,597,100[1] −0.3 10.5 10.8 73.21\n",
      "Scraping demographic data for \"Monaco\"\n",
      "Monaco https://en.wikipedia.org/wiki/Demographics_of_Monaco\n",
      "Monaco 37,308 2.25% 13.1 10.4 84.7\n",
      "Scraping demographic data for \"Montenegro\"\n",
      "Montenegro https://en.wikipedia.org/wiki/Demographics_of_Montenegro\n",
      "Montenegro 604,966 -0.41% 11.19 10.33 77.75\n",
      "Scraping demographic data for \"Morocco\"\n",
      "Morocco https://en.wikipedia.org/wiki/Demographics_of_Morocco\n",
      "Morocco 37,841,363 1.31% 17.42 6.6 73.68\n",
      "Scraping demographic data for \"Mozambique\"\n",
      "Mozambique https://en.wikipedia.org/wiki/Demographics_of_Mozambique\n",
      "Mozambique 31,693,239 2.56% 37.47 10.25 57.1\n",
      "Scraping demographic data for \"Myanmar\"\n",
      "Myanmar https://en.wikipedia.org/wiki/Demographics_of_Myanmar\n",
      "Myanmar 57,526,449 0.78% 16.34 16.34 69.92\n",
      "Scraping demographic data for \"Namibia\"\n",
      "Namibia https://en.wikipedia.org/wiki/Demographics_of_Namibia\n",
      "Namibia 2,727,409 1.82% 25.01 6.85 66.47\n",
      "Scraping demographic data for \"Nauru\"\n",
      "Nauru https://en.wikipedia.org/wiki/Demographics_of_Nauru\n",
      "Nauru 10,084 N/A N/A N/A N/A\n",
      "Scraping demographic data for \"Nepal\"\n",
      "Nepal https://en.wikipedia.org/wiki/Demographics_of_Nepal\n",
      "Nepal 29,164,578 0.92% 17.53 5.58 72.4\n",
      "Scraping demographic data for \"the Netherlands\"\n",
      "the Netherlands https://en.wikipedia.org/wiki/Demographics_of_the_Netherlands\n",
      "the Netherlands 17,821,419 0.29% 10.2 9.7 82.1\n",
      "Scraping demographic data for \"New Zealand\"\n",
      "New Zealand https://en.wikipedia.org/wiki/Demographics_of_New_Zealand\n",
      "New Zealand 5,124,100 2.1% 12.43 6.95 None\n",
      "Scraping demographic data for \"Nicaragua\"\n",
      "Nicaragua https://en.wikipedia.org/wiki/Demographics_of_Nicaragua\n",
      "Demographic headers do not exist for  Nicaragua\n",
      "Demographic data do not exist for Nicaragua\n",
      "Nicaragua N/A N/A N/A N/A N/A\n",
      "Scraping demographic data for \"Niger\"\n",
      "Niger https://en.wikipedia.org/wiki/Demographics_of_Niger\n",
      "Niger 24,484,587 3.66% 47.08 9.87 60.09\n",
      "Scraping demographic data for \"Nigeria\"\n",
      "Nigeria https://en.wikipedia.org/wiki/Demographics_of_Nigeria\n",
      "Nigeria 218,541,212 2.53% 34.19 8.7 61.33\n",
      "Scraping demographic data for \"North Korea\"\n",
      "North Korea https://en.wikipedia.org/wiki/Demographics_of_North_Korea\n",
      "North Korea 25.97 0.84% 14.35 9.39 71.65\n",
      "Scraping demographic data for \"North Macedonia\"\n",
      "North Macedonia https://en.wikipedia.org/wiki/Demographics_of_North_Macedonia\n",
      "North Macedonia 1,836,713 -0.32% 9.2 12.4 75.40\n",
      "Scraping demographic data for \"Norway\"\n",
      "Norway https://en.wikipedia.org/wiki/Demographics_of_Norway\n",
      "Norway 5,475,240 0.8% 12 7.96 82.55\n",
      "Scraping demographic data for \"Oman\"\n",
      "Oman https://en.wikipedia.org/wiki/Demographics_of_Oman\n",
      "Oman 4,962,758 1.84% 22.11 3.23 76.9\n",
      "Scraping demographic data for \"Pakistan\"\n",
      "Pakistan https://en.wikipedia.org/wiki/Demographics_of_Pakistan\n",
      "Pakistan 247,653,551 1.85% 27.5 7.2 66.1\n",
      "Scraping demographic data for \"Palau\"\n",
      "Palau https://en.wikipedia.org/wiki/Demographics_of_Palau\n",
      "Demographic headers do not exist for  Palau\n",
      "Demographic data do not exist for Palau\n",
      "Palau N/A N/A N/A N/A N/A\n",
      "Scraping demographic data for \"the State of Palestine\"\n",
      "the State of Palestine https://en.wikipedia.org/wiki/Demographics_of_the_State_of_Palestine\n",
      "the State of Palestine 3,000,021 1.69% 24.42 3.4 N/A\n",
      "Scraping demographic data for \"Panama\"\n",
      "Panama https://en.wikipedia.org/wiki/Demographics_of_Panama\n",
      "Panama 4,337,768 1.53% 17.99 6.11 77.62\n",
      "Scraping demographic data for \"Papua New Guinea\"\n",
      "Papua New Guinea https://en.wikipedia.org/wiki/Demographics_of_Papua_New_Guinea\n",
      "Papua New Guinea 9,593,498 2.35% 29.03 5.54 69.43\n",
      "Scraping demographic data for \"Paraguay\"\n",
      "Paraguay https://en.wikipedia.org/wiki/Demographics_of_Paraguay\n",
      "Paraguay 7,356,409 1.14% 16.32 4.87 78.37\n",
      "Scraping demographic data for \"Peru\"\n",
      "Peru https://en.wikipedia.org/wiki/Demographics_of_Peru\n",
      "Peru 34,352,719[1] 0.51% 17.21 11.32 68.94\n",
      "Scraping demographic data for \"the Philippines\"\n",
      "the Philippines https://en.wikipedia.org/wiki/Demographics_of_the_Philippines\n",
      "the Philippines 109,035,343 1.63% 12.4 8.0 72.66\n",
      "Scraping demographic data for \"Poland\"\n",
      "Poland https://en.wikipedia.org/wiki/Demographics_of_Poland\n",
      "Poland 37,940,000 -0.26% 8.7 13.6 78.76\n",
      "Scraping demographic data for \"Portugal\"\n",
      "Portugal https://en.wikipedia.org/wiki/Demographics_of_Portugal\n",
      "Portugal 10,421,117 +0.3% 7.6 12.0 81.5\n",
      "Scraping demographic data for \"Qatar\"\n",
      "Qatar https://en.wikipedia.org/wiki/Demographics_of_Qatar\n",
      "Qatar 2,937,800 1.04% 9.33 1.42 79.81\n",
      "Scraping demographic data for \"the Republic of Artsakh\"\n",
      "the Republic of Artsakh https://en.wikipedia.org/wiki/Demographics_of_the_Republic_of_Artsakh\n",
      "Demographic headers do not exist for  the Republic of Artsakh\n",
      "Demographic data do not exist for the Republic of Artsakh\n",
      "the Republic of Artsakh N/A N/A N/A N/A N/A\n",
      "Scraping demographic data for \"Romania\"\n",
      "Romania https://en.wikipedia.org/wiki/Demographics_of_Romania\n",
      "Romania 18,889,602 -3.58% 5,47 16.89 80.1\n",
      "Scraping demographic data for \"Russia\"\n",
      "Russia https://en.wikipedia.org/wiki/Demographics_of_Russia\n",
      "Russia 147,182,123 -0.39 9.8 14.6 71.54\n",
      "Scraping demographic data for \"Rwanda\"\n",
      "Rwanda https://en.wikipedia.org/wiki/Demographics_of_Rwanda\n",
      "Demographic headers do not exist for  Rwanda\n",
      "Demographic data do not exist for Rwanda\n",
      "Rwanda N/A N/A N/A N/A N/A\n",
      "Scraping demographic data for \"Saint Kitts and Nevis\"\n",
      "Saint Kitts and Nevis https://en.wikipedia.org/wiki/Demographics_of_Saint_Kitts_and_Nevis\n",
      "Demographic headers do not exist for  Saint Kitts and Nevis\n",
      "Demographic data do not exist for Saint Kitts and Nevis\n",
      "Saint Kitts and Nevis N/A N/A N/A N/A N/A\n",
      "Scraping demographic data for \"Saint Lucia\"\n",
      "Saint Lucia https://en.wikipedia.org/wiki/Demographics_of_Saint_Lucia\n",
      "Saint Lucia 167,122 0.29% 12.02 8.07 78.95\n",
      "Scraping demographic data for \"Saint Vincent and the Grenadines\"\n",
      "Saint Vincent and the Grenadines https://en.wikipedia.org/wiki/Demographics_of_Saint_Vincent_and_the_Grenadines\n",
      "Saint Vincent and the Grenadines 100,969 -0.17% 12.27 7.49 N/A\n",
      "Scraping demographic data for \"Samoa\"\n",
      "Samoa https://en.wikipedia.org/wiki/Demographics_of_Samoa\n"
     ]
    },
    {
     "name": "stdout",
     "output_type": "stream",
     "text": [
      "Samoa 206,179 0.63% 19.21 5.37 75.19\n",
      "Scraping demographic data for \"San Marino\"\n",
      "San Marino https://en.wikipedia.org/wiki/Demographics_of_San_Marino\n",
      "Demographic headers do not exist for  San Marino\n",
      "Demographic data do not exist for San Marino\n",
      "San Marino N/A N/A N/A N/A N/A\n",
      "Scraping demographic data for \"São Tomé and Príncipe\"\n",
      "São Tomé and Príncipe https://en.wikipedia.org/wiki/Demographics_of_São_Tomé_and_Príncipe\n",
      "São Tomé and Príncipe 217,164 1.48% 28.19 6.2 N/A\n",
      "Scraping demographic data for \"Saudi Arabia\"\n",
      "Saudi Arabia https://en.wikipedia.org/wiki/Demographics_of_Saudi_Arabia\n",
      "Saudi Arabia 35,950,396 1.49% 14.7 3.4 75.7\n",
      "Scraping demographic data for \"Senegal\"\n",
      "Senegal https://en.wikipedia.org/wiki/Demographics_of_Senegal\n",
      "Senegal 17,923,036 2.57% 31.51 5.08 69.96\n",
      "Scraping demographic data for \"Serbia\"\n",
      "Serbia https://en.wikipedia.org/wiki/Demographics_of_Serbia\n",
      "Serbia 6,690,887 −10.9 9.1 20.0 72.7\n",
      "Scraping demographic data for \"Seychelles\"\n",
      "Seychelles https://en.wikipedia.org/wiki/Demographics_of_Seychelles\n",
      "Seychelles 97,017 0.64% 12.37 6.88 N/A\n",
      "Scraping demographic data for \"Sierra Leone\"\n",
      "Sierra Leone https://en.wikipedia.org/wiki/Demographics_of_Sierra_Leone\n",
      "Sierra Leone 8,420,641 15.40% 37.40 11.03 57.39\n",
      "Scraping demographic data for \"Singapore\"\n",
      "Singapore https://en.wikipedia.org/wiki/Demographics_of_Singapore\n",
      "Singapore 5,453,600 N/A 8.6 5.8 83.5\n",
      "Scraping demographic data for \"Sint Maarten\"\n",
      "Sint Maarten https://en.wikipedia.org/wiki/Demographics_of_Sint_Maarten\n",
      "Sint Maarten N/A N/A N/A N/A N/A\n",
      "Scraping demographic data for \"Slovakia\"\n",
      "Slovakia https://en.wikipedia.org/wiki/Demographics_of_Slovakia\n",
      "Slovakia 5,643,453 3.60% 8.94 0.13 78.31\n",
      "Scraping demographic data for \"Slovenia\"\n",
      "Slovenia https://en.wikipedia.org/wiki/Demographics_of_Slovenia\n",
      "Slovenia 2,101,208 0.06% 8.3 10.4 81.82\n",
      "Scraping demographic data for \"the Solomon Islands\"\n",
      "the Solomon Islands https://en.wikipedia.org/wiki/Demographics_of_the_Solomon_Islands\n",
      "the Solomon Islands 702,694 1.72% 22.71 3.96 N/A\n",
      "Scraping demographic data for \"Somalia\"\n",
      "Somalia https://en.wikipedia.org/wiki/Demographics_of_Somalia\n",
      "Somalia 12,386,248 2.42% 37.98 11.62 55.72\n",
      "Scraping demographic data for \"Somaliland\"\n",
      "Somaliland https://en.wikipedia.org/wiki/Demographics_of_Somaliland\n",
      "Somaliland N/A N/A N/A N/A N/A\n",
      "Scraping demographic data for \"South Africa\"\n",
      "South Africa https://en.wikipedia.org/wiki/Demographics_of_South_Africa\n",
      "South Africa 60 1.06%[1]: 19.5 11.0 64.7\n",
      "Scraping demographic data for \"South Korea\"\n",
      "South Korea https://en.wikipedia.org/wiki/Demographics_of_South_Korea\n",
      "South Korea 51,628,117 0.24% 4.9 7.3 82.97\n",
      "Scraping demographic data for \"South Sudan\"\n",
      "South Sudan https://en.wikipedia.org/wiki/Demographics_of_South_Sudan\n",
      "South Sudan 11,544,905 4.91% 37.69 9.52 59.16\n",
      "Scraping demographic data for \"Spain\"\n",
      "Spain https://en.wikipedia.org/wiki/Demographics_of_Spain\n",
      "Spain 47,163,418 0.13% 7.13 10.22 82.55\n",
      "Scraping demographic data for \"Sri Lanka\"\n",
      "Sri Lanka https://en.wikipedia.org/wiki/Demographics_of_Sri_Lanka\n",
      "Sri Lanka 23,187,516 0.61% 17.04 5.96 75.94\n",
      "Scraping demographic data for \"Sudan\"\n",
      "Sudan https://en.wikipedia.org/wiki/Demographics_of_Sudan\n",
      "Sudan 47,958,856 2.55% 33.47 6.3 67.12\n",
      "Scraping demographic data for \"Suriname\"\n",
      "Suriname https://en.wikipedia.org/wiki/Demographics_of_Suriname\n",
      "Suriname 632,638 1.13% 15.38 6.59 72.42\n",
      "Scraping demographic data for \"Sweden\"\n",
      "Sweden https://en.wikipedia.org/wiki/Demographics_of_Sweden\n",
      "Sweden 10,481,937 0.5% 10.83 9.46 82.7\n",
      "Scraping demographic data for \"Switzerland\"\n",
      "Switzerland https://en.wikipedia.org/wiki/Demographics_of_Switzerland\n",
      "Switzerland 8,570,148 0.75% 10.5 8.13 83.8\n",
      "Scraping demographic data for \"Syria\"\n",
      "Syria https://en.wikipedia.org/wiki/Demographics_of_Syria\n",
      "Syria 20,384,316 N/A N/A N/A N/A\n",
      "Scraping demographic data for \"Taiwan\"\n",
      "Taiwan https://en.wikipedia.org/wiki/Demographics_of_Taiwan\n",
      "Taiwan 23,313,550 0.04% 6.0 8.9 81.16\n",
      "Scraping demographic data for \"Tajikistan\"\n",
      "Tajikistan https://en.wikipedia.org/wiki/Demographics_of_Tajikistan\n",
      "Tajikistan 9,119,347 1.4% 20.73 5.72 69.36\n",
      "Scraping demographic data for \"Tanzania\"\n",
      "Tanzania https://en.wikipedia.org/wiki/Demographics_of_Tanzania\n",
      "Tanzania 63,852,892 2.78% 33.3 5.09 70.19\n",
      "Scraping demographic data for \"Thailand\"\n",
      "Thailand https://en.wikipedia.org/wiki/Demographics_of_Thailand\n",
      "Thailand (66,090,475) -0.14(2022) 7.6 9 77.66\n",
      "Scraping demographic data for \"Togo\"\n",
      "Togo https://en.wikipedia.org/wiki/Demographics_of_Togo\n",
      "Togo 8,049,233 2.48% 31.86 5.27 71.36\n",
      "Scraping demographic data for \"Tonga\"\n",
      "Tonga https://en.wikipedia.org/wiki/Demographics_of_Tonga\n",
      "Tonga 105,517 -0.26% 20.31 4.95 77.53\n",
      "Scraping demographic data for \"Trinidad and Tobago\"\n",
      "Trinidad and Tobago https://en.wikipedia.org/wiki/Demographics_of_Trinidad_and_Tobago\n",
      "Trinidad and Tobago 1,405,646 0.14% 10.79 8.38 75.94\n",
      "Scraping demographic data for \"Tunisia\"\n",
      "Tunisia https://en.wikipedia.org/wiki/Demographics_of_Tunisia\n",
      "Tunisia 11,896,972 0.69% 14.62 6.36 76.82\n",
      "Scraping demographic data for \"Turkey\"\n",
      "Turkey https://en.wikipedia.org/wiki/Demographics_of_Turkey\n",
      "Turkey 85,279,553(31 0.55% 13.3 N/A 78.6\n",
      "Scraping demographic data for \"Turkmenistan\"\n",
      "Turkmenistan https://en.wikipedia.org/wiki/Demographics_of_Turkmenistan\n",
      "Turkmenistan 5,636,011 0.99% 17.51 5.95 71.83\n",
      "Scraping demographic data for \"Tuvalu\"\n",
      "Tuvalu https://en.wikipedia.org/wiki/Demographics_of_Tuvalu\n",
      "Demographic headers do not exist for  Tuvalu\n",
      "Demographic data do not exist for Tuvalu\n",
      "Tuvalu N/A N/A N/A N/A N/A\n",
      "Scraping demographic data for \"Uganda\"\n",
      "Uganda https://en.wikipedia.org/wiki/Demographics_of_Uganda\n",
      "Uganda 46,205,893 3.27% 40.94 5.02 68.96\n"
     ]
    }
   ],
   "source": [
    "final_df = scrape_countries_demographics()"
   ]
  },
  {
   "cell_type": "markdown",
   "id": "a90dc116",
   "metadata": {},
   "source": [
    "Let's check how the data look like. Remember, if the data is not available on Wiki page, it would return 'N/A'. For lot of these smaller countries, we do not have data on Wiki pages. "
   ]
  },
  {
   "cell_type": "code",
   "execution_count": 42,
   "id": "5ae03511",
   "metadata": {
    "scrolled": true
   },
   "outputs": [
    {
     "data": {
      "text/html": [
       "<div>\n",
       "<style scoped>\n",
       "    .dataframe tbody tr th:only-of-type {\n",
       "        vertical-align: middle;\n",
       "    }\n",
       "\n",
       "    .dataframe tbody tr th {\n",
       "        vertical-align: top;\n",
       "    }\n",
       "\n",
       "    .dataframe thead th {\n",
       "        text-align: right;\n",
       "    }\n",
       "</style>\n",
       "<table border=\"1\" class=\"dataframe\">\n",
       "  <thead>\n",
       "    <tr style=\"text-align: right;\">\n",
       "      <th></th>\n",
       "      <th>Country</th>\n",
       "      <th>Population</th>\n",
       "      <th>Growth_rate</th>\n",
       "      <th>Birth_rate</th>\n",
       "      <th>Death_rate</th>\n",
       "      <th>Life_expectancy</th>\n",
       "    </tr>\n",
       "  </thead>\n",
       "  <tbody>\n",
       "    <tr>\n",
       "      <th>1</th>\n",
       "      <td>Abkhazia</td>\n",
       "      <td>N/A</td>\n",
       "      <td>N/A</td>\n",
       "      <td>N/A</td>\n",
       "      <td>N/A</td>\n",
       "      <td>N/A</td>\n",
       "    </tr>\n",
       "    <tr>\n",
       "      <th>2</th>\n",
       "      <td>Afghanistan</td>\n",
       "      <td>40,870,394</td>\n",
       "      <td>2.34%</td>\n",
       "      <td>38.3</td>\n",
       "      <td>13.7</td>\n",
       "      <td>63.2</td>\n",
       "    </tr>\n",
       "    <tr>\n",
       "      <th>3</th>\n",
       "      <td>Albania</td>\n",
       "      <td>2,811,666</td>\n",
       "      <td>0.22%</td>\n",
       "      <td>9.7</td>\n",
       "      <td>10.9</td>\n",
       "      <td>N/A</td>\n",
       "    </tr>\n",
       "    <tr>\n",
       "      <th>4</th>\n",
       "      <td>Algeria</td>\n",
       "      <td>44,508,736</td>\n",
       "      <td>1.34%</td>\n",
       "      <td>18.52</td>\n",
       "      <td>4.32</td>\n",
       "      <td>78.03</td>\n",
       "    </tr>\n",
       "    <tr>\n",
       "      <th>5</th>\n",
       "      <td>American Samoa</td>\n",
       "      <td>N/A</td>\n",
       "      <td>N/A</td>\n",
       "      <td>N/A</td>\n",
       "      <td>N/A</td>\n",
       "      <td>N/A</td>\n",
       "    </tr>\n",
       "    <tr>\n",
       "      <th>...</th>\n",
       "      <td>...</td>\n",
       "      <td>...</td>\n",
       "      <td>...</td>\n",
       "      <td>...</td>\n",
       "      <td>...</td>\n",
       "      <td>...</td>\n",
       "    </tr>\n",
       "    <tr>\n",
       "      <th>186</th>\n",
       "      <td>Tunisia</td>\n",
       "      <td>11,896,972</td>\n",
       "      <td>0.69%</td>\n",
       "      <td>14.62</td>\n",
       "      <td>6.36</td>\n",
       "      <td>76.82</td>\n",
       "    </tr>\n",
       "    <tr>\n",
       "      <th>187</th>\n",
       "      <td>Turkey</td>\n",
       "      <td>85,279,553(31</td>\n",
       "      <td>0.55%</td>\n",
       "      <td>13.3</td>\n",
       "      <td>N/A</td>\n",
       "      <td>78.6</td>\n",
       "    </tr>\n",
       "    <tr>\n",
       "      <th>188</th>\n",
       "      <td>Turkmenistan</td>\n",
       "      <td>5,636,011</td>\n",
       "      <td>0.99%</td>\n",
       "      <td>17.51</td>\n",
       "      <td>5.95</td>\n",
       "      <td>71.83</td>\n",
       "    </tr>\n",
       "    <tr>\n",
       "      <th>189</th>\n",
       "      <td>Tuvalu</td>\n",
       "      <td>N/A</td>\n",
       "      <td>N/A</td>\n",
       "      <td>N/A</td>\n",
       "      <td>N/A</td>\n",
       "      <td>N/A</td>\n",
       "    </tr>\n",
       "    <tr>\n",
       "      <th>190</th>\n",
       "      <td>Uganda</td>\n",
       "      <td>46,205,893</td>\n",
       "      <td>3.27%</td>\n",
       "      <td>40.94</td>\n",
       "      <td>5.02</td>\n",
       "      <td>68.96</td>\n",
       "    </tr>\n",
       "  </tbody>\n",
       "</table>\n",
       "<p>190 rows × 6 columns</p>\n",
       "</div>"
      ],
      "text/plain": [
       "            Country     Population Growth_rate Birth_rate Death_rate  \\\n",
       "1          Abkhazia            N/A         N/A        N/A        N/A   \n",
       "2       Afghanistan     40,870,394       2.34%       38.3       13.7   \n",
       "3           Albania      2,811,666       0.22%        9.7       10.9   \n",
       "4           Algeria     44,508,736       1.34%      18.52       4.32   \n",
       "5    American Samoa            N/A         N/A        N/A        N/A   \n",
       "..              ...            ...         ...        ...        ...   \n",
       "186         Tunisia     11,896,972       0.69%      14.62       6.36   \n",
       "187          Turkey  85,279,553(31       0.55%       13.3        N/A   \n",
       "188    Turkmenistan      5,636,011       0.99%      17.51       5.95   \n",
       "189          Tuvalu            N/A         N/A        N/A        N/A   \n",
       "190          Uganda     46,205,893       3.27%      40.94       5.02   \n",
       "\n",
       "    Life_expectancy  \n",
       "1               N/A  \n",
       "2              63.2  \n",
       "3               N/A  \n",
       "4             78.03  \n",
       "5               N/A  \n",
       "..              ...  \n",
       "186           76.82  \n",
       "187            78.6  \n",
       "188           71.83  \n",
       "189             N/A  \n",
       "190           68.96  \n",
       "\n",
       "[190 rows x 6 columns]"
      ]
     },
     "execution_count": 42,
     "metadata": {},
     "output_type": "execute_result"
    }
   ],
   "source": [
    "final_df[1:]"
   ]
  },
  {
   "cell_type": "code",
   "execution_count": null,
   "id": "c1b23f0d",
   "metadata": {},
   "outputs": [],
   "source": []
  }
 ],
 "metadata": {
  "kernelspec": {
   "display_name": "Python 3 (ipykernel)",
   "language": "python",
   "name": "python3"
  },
  "language_info": {
   "codemirror_mode": {
    "name": "ipython",
    "version": 3
   },
   "file_extension": ".py",
   "mimetype": "text/x-python",
   "name": "python",
   "nbconvert_exporter": "python",
   "pygments_lexer": "ipython3",
   "version": "3.9.12"
  }
 },
 "nbformat": 4,
 "nbformat_minor": 5
}
